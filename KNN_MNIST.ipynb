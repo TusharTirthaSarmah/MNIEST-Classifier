{
  "cells": [
    {
      "cell_type": "code",
      "execution_count": 2,
      "metadata": {
        "colab": {
          "base_uri": "https://localhost:8080/"
        },
        "id": "DL4V6hX-yAcN",
        "outputId": "ff553d7b-da6a-4424-a3d3-a3805d84d0c6"
      },
      "outputs": [
        {
          "output_type": "stream",
          "name": "stderr",
          "text": [
            "/usr/local/lib/python3.10/dist-packages/sklearn/datasets/_openml.py:968: FutureWarning: The default value of `parser` will change from `'liac-arff'` to `'auto'` in 1.4. You can set `parser='auto'` to silence this warning. Therefore, an `ImportError` will be raised from 1.4 if the dataset is dense and pandas is not installed. Note that the pandas parser may return different data types. See the Notes Section in fetch_openml's API doc for details.\n",
            "  warn(\n"
          ]
        }
      ],
      "source": [
        "import numpy as np\n",
        "from sklearn.datasets import fetch_openml\n",
        "from sklearn.model_selection import train_test_split\n",
        "from sklearn.neighbors import KNeighborsClassifier\n",
        "from sklearn.metrics import accuracy_score\n",
        "\n",
        "# Load MNIST dataset\n",
        "mnist = fetch_openml('mnist_784')\n",
        "\n",
        "X = mnist.data\n",
        "y = mnist.target\n"
      ]
    },
    {
      "cell_type": "markdown",
      "metadata": {
        "id": "2wB-TE1ibG11"
      },
      "source": [
        "Finding the best value of K."
      ]
    },
    {
      "cell_type": "code",
      "execution_count": 3,
      "metadata": {
        "colab": {
          "base_uri": "https://localhost:8080/"
        },
        "id": "u5izDiMXBHOl",
        "outputId": "170d702c-3133-4ac5-f767-cc3bc8534d41"
      },
      "outputs": [
        {
          "output_type": "stream",
          "name": "stdout",
          "text": [
            "Accuracy for k=: 2      0.9628095238095238\n",
            "Accuracy for k=: 3      0.9694285714285714\n",
            "Accuracy for k=: 4      0.9678571428571429\n",
            "Accuracy for k=: 5      0.9681428571428572\n",
            "Accuracy for k=: 6      0.9667619047619047\n",
            "Accuracy for k=: 7      0.9674285714285714\n",
            "Accuracy for k=: 8      0.9655238095238096\n",
            "Accuracy for k=: 9      0.9652857142857143\n",
            "Accuracy for k=: 10      0.963952380952381\n"
          ]
        }
      ],
      "source": [
        "best_accuracy=0\n",
        "j=0\n",
        "for i in range(2,11):\n",
        "      # Splitting dataset into training and testing sets\n",
        "      X_train, X_test, y_train, y_test = train_test_split(X, y, test_size=0.3, random_state=55)\n",
        "\n",
        "      # Creating a KNN classifier with k=i\n",
        "      knn_classifier = KNeighborsClassifier(n_neighbors=i)\n",
        "\n",
        "      # Training the classifier on the training data\n",
        "      knn_classifier.fit(X_train, y_train)\n",
        "\n",
        "      # Predict the labels for the test data\n",
        "      y_pred = knn_classifier.predict(X_test)\n",
        "\n",
        "      # Calculate the accuracy of the model\n",
        "      accuracy = accuracy_score(y_test, y_pred)\n",
        "      print(\"Accuracy for k=: {}     \".format(i), accuracy)\n",
        "\n",
        "      #Find K with maximum accuracy\n",
        "\n",
        "      if accuracy> best_accuracy:\n",
        "        best_accuracy=accuracy\n",
        "        j=i\n",
        "\n"
      ]
    },
    {
      "cell_type": "markdown",
      "metadata": {
        "id": "nm1bpVWlbtSP"
      },
      "source": [
        "Reporting the Accuracy"
      ]
    },
    {
      "cell_type": "code",
      "execution_count": 4,
      "metadata": {
        "colab": {
          "base_uri": "https://localhost:8080/"
        },
        "id": "bc5bTyoub0fg",
        "outputId": "efdb806b-440b-4c4c-d6c9-7abf446c2a7f"
      },
      "outputs": [
        {
          "output_type": "stream",
          "name": "stdout",
          "text": [
            "The Best accuracy is 0.9694285714285714 and corresponding K=3\n"
          ]
        }
      ],
      "source": [
        "print(\"The Best accuracy is {} and corresponding K={}\".format(best_accuracy,j))"
      ]
    },
    {
      "cell_type": "markdown",
      "metadata": {
        "id": "rAYEWLBXazkc"
      },
      "source": [
        "Displaying results by showing the image, actual label, and predicted label."
      ]
    },
    {
      "cell_type": "code",
      "execution_count": 5,
      "metadata": {
        "colab": {
          "base_uri": "https://localhost:8080/",
          "height": 384
        },
        "id": "ymQEPoizy25m",
        "outputId": "bc21f6b1-d220-4fa5-db63-4c1889446fab"
      },
      "outputs": [
        {
          "output_type": "stream",
          "name": "stdout",
          "text": [
            "859\n"
          ]
        },
        {
          "output_type": "display_data",
          "data": {
            "text/plain": [
              "<Figure size 400x400 with 1 Axes>"
            ],
            "image/png": "[encoded data removed]"
          },
          "metadata": {}
        }
      ],
      "source": [
        "#Considering K=3 since it has maximum accuracy\n",
        "knn_classifier = KNeighborsClassifier(n_neighbors=j)\n",
        "\n",
        "# Training the classifier on the training data\n",
        "knn_classifier.fit(X_train, y_train)\n",
        "\n",
        "# Predicting the labels for the test data\n",
        "y_pred = knn_classifier.predict(X_test)\n",
        "\n",
        "y_test=np.array(y_test)\n",
        "\n",
        "import matplotlib.pyplot as plt\n",
        "\n",
        "#Randomly pick an index\n",
        "random_index = np.random.randint(0, len(X_test))\n",
        "print(random_index)\n",
        "X_test=np.array(X_test)\n",
        "# Get the image data and label\n",
        "image = X_test[random_index,:].reshape(28,28)\n",
        "label = y_pred[random_index]\n",
        "\n",
        "# Display the image\n",
        "plt.figure(figsize=(4, 4))\n",
        "plt.imshow(image)\n",
        "plt.title(\"Label:{}\".format(label))\n",
        "plt.axis('off')\n",
        "plt.show()\n"
      ]
    },
    {
      "cell_type": "markdown",
      "source": [
        "Displaying some samples where it has been predicted incorrectly"
      ],
      "metadata": {
        "id": "g_5c8QBWBTvo"
      }
    },
    {
      "cell_type": "code",
      "execution_count": 7,
      "metadata": {
        "id": "0AF_-2_7M5kB",
        "colab": {
          "base_uri": "https://localhost:8080/",
          "height": 997
        },
        "outputId": "d6c29652-ceb7-42d2-e811-5572c31db50e"
      },
      "outputs": [
        {
          "output_type": "display_data",
          "data": {
            "text/plain": [
              "<Figure size 200x200 with 1 Axes>"
            ],
            "image/png": "[encoded data removed]"
          },
          "metadata": {}
        },
        {
          "output_type": "display_data",
          "data": {
            "text/plain": [
              "<Figure size 200x200 with 1 Axes>"
            ],
            "image/png": "[encoded data removed]"
          },
          "metadata": {}
        },
        {
          "output_type": "display_data",
          "data": {
            "text/plain": [
              "<Figure size 200x200 with 1 Axes>"
            ],
            "image/png": "[encoded data removed]"
          },
          "metadata": {}
        },
        {
          "output_type": "display_data",
          "data": {
            "text/plain": [
              "<Figure size 200x200 with 1 Axes>"
            ],
            "image/png": "[encoded data removed]"
          },
          "metadata": {}
        },
        {
          "output_type": "display_data",
          "data": {
            "text/plain": [
              "<Figure size 200x200 with 1 Axes>"
            ],
            "image/png": "[encoded data removed]"
          },
          "metadata": {}
        }
      ],
      "source": [
        "for index in range(0, len(X_test)):\n",
        "  import matplotlib.pyplot as plt\n",
        "  image = X_test[index,:].reshape(28,28)\n",
        "  label = y_pred[index]\n",
        "\n",
        "  if y_test[index]!=label:\n",
        "    if index<=200:\n",
        "      plt.figure(figsize=(2, 2))\n",
        "      plt.imshow(X_test[index,:].reshape(28,28))\n",
        "      plt.title(\"Label:{}\".format(label))\n",
        "      plt.axis('off')\n",
        "      plt.show()\n",
        "    else:\n",
        "      break"
      ]
    }
  ],
  "metadata": {
    "colab": {
      "provenance": []
    },
    "kernelspec": {
      "display_name": "Python 3 (ipykernel)",
      "language": "python",
      "name": "python3"
    },
    "language_info": {
      "codemirror_mode": {
        "name": "ipython",
        "version": 3
      },
      "file_extension": ".py",
      "mimetype": "text/x-python",
      "name": "python",
      "nbconvert_exporter": "python",
      "pygments_lexer": "ipython3",
      "version": "3.11.3"
    },
    "varInspector": {
      "cols": {
        "lenName": 16,
        "lenType": 16,
        "lenVar": 40
      },
      "kernels_config": {
        "python": {
          "delete_cmd_postfix": "",
          "delete_cmd_prefix": "del ",
          "library": "var_list.py",
          "varRefreshCmd": "print(var_dic_list())"
        },
        "r": {
          "delete_cmd_postfix": ") ",
          "delete_cmd_prefix": "rm(",
          "library": "var_list.r",
          "varRefreshCmd": "cat(var_dic_list()) "
        }
      },
      "types_to_exclude": [
        "module",
        "function",
        "builtin_function_or_method",
        "instance",
        "_Feature"
      ],
      "window_display": false
    }
  },
  "nbformat": 4,
  "nbformat_minor": 0
}